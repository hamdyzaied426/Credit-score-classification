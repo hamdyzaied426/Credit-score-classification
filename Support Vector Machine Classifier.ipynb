{
  "cells": [
    {
      "cell_type": "markdown",
      "metadata": {
        "id": "Sc7qmOFr6i2Z"
      },
      "source": [
        "$$ ITI \\space AI-Pro: \\space Intake \\space 44 $$\n",
        "$$ Machine \\space Learning \\space 1 $$\n",
        "$$ Lab \\space no. \\space 4 $$"
      ]
    },
    {
      "cell_type": "markdown",
      "metadata": {
        "id": "2tiys70369Bd"
      },
      "source": [
        "# `01` Import Necessary Libraries"
      ]
    },
    {
      "cell_type": "markdown",
      "metadata": {
        "id": "UwHbrH6l9Y3A"
      },
      "source": [
        "## `i` Default Libraries"
      ]
    },
    {
      "cell_type": "code",
      "execution_count": null,
      "metadata": {
        "id": "1tSITKud4F0n"
      },
      "outputs": [],
      "source": [
        "import numpy as np\n",
        "import pandas as pd\n",
        "\n",
        "import matplotlib.pyplot as plt\n",
        "import seaborn as sns"
      ]
    },
    {
      "cell_type": "markdown",
      "metadata": {
        "id": "4St58qO89bae"
      },
      "source": [
        "## `ii` Additional Libraries\n",
        "Add imports for additional libraries you used throughout the notebook"
      ]
    },
    {
      "cell_type": "code",
      "execution_count": null,
      "metadata": {
        "id": "zipMCQxV9oic"
      },
      "outputs": [],
      "source": [
        "from sklearn.svm import LinearSVC\n",
        "from sklearn.model_selection import train_test_split\n",
        "from sklearn.metrics import accuracy_score\n",
        "from sklearn.model_selection import GridSearchCV\n",
        "from sklearn.svm import SVC\n",
        "from sklearn.metrics import accuracy_score, precision_score, f1_score, confusion_matrix\n",
        "from sklearn.svm import SVC"
      ]
    },
    {
      "cell_type": "markdown",
      "metadata": {
        "id": "6Rp9SKDF7AsT"
      },
      "source": [
        "----------------------------\n",
        "\n",
        "# `02` Load Data\n",
        "\n",
        "Note: Make sure the `Data` folder attached with the notebook is in the same path for this cell to work properly.\n",
        "\n",
        "[Dataset Link](https://www.kaggle.com/datasets/parisrohan/credit-score-classification)"
      ]
    },
    {
      "cell_type": "code",
      "execution_count": null,
      "metadata": {
        "id": "tqe9Lt1l7CX2"
      },
      "outputs": [],
      "source": [
        "train = pd.read_csv('train.csv')\n",
        "test = pd.read_csv('test.csv')"
      ]
    },
    {
      "cell_type": "code",
      "execution_count": null,
      "metadata": {
        "id": "Yxl2Xx1EJWr-"
      },
      "outputs": [],
      "source": [
        "df = pd.read_csv('data.csv')"
      ]
    },
    {
      "cell_type": "markdown",
      "metadata": {
        "id": "tKlBv0YR90G3"
      },
      "source": [
        "----------------\n",
        "\n",
        "# `03` Exploratory Data Analysis (EDA)"
      ]
    },
    {
      "cell_type": "markdown",
      "metadata": {
        "id": "8k61ceWr_BL5"
      },
      "source": [
        "## `i` Simple Analysis\n",
        "\n",
        "Preview data, perform statistical data analysis and explore as much as needed to better understand the data set we're dealing with.\n",
        "\n",
        "`Notes:`\n",
        "- Feel free to look up EDA approaches online for inspiration (however you **must understand** everything and not copy paste).\n",
        "- Make sure to add notes and insights extracted from your analysis.\n"
      ]
    },
    {
      "cell_type": "code",
      "execution_count": null,
      "metadata": {
        "id": "pM3JCzjH53sz"
      },
      "outputs": [],
      "source": []
    },
    {
      "cell_type": "markdown",
      "metadata": {
        "id": "skTWjM-OA0Ta"
      },
      "source": [
        "## `ii` Visual Analysis\n",
        "\n",
        "Plot graphs and relations in order to gain more insights about the data set, identify patterns, and make assumptions.\n",
        "\n",
        "`Notes:`\n",
        "- Feel free to look up visual EDA approaches online for inspiration (however you **must understand** everything and not copy paste).\n",
        "- Make sure to add notes and insights extracted from your analysis."
      ]
    },
    {
      "cell_type": "code",
      "execution_count": null,
      "metadata": {
        "id": "e5MOmFnCB0vK"
      },
      "outputs": [],
      "source": []
    },
    {
      "cell_type": "markdown",
      "metadata": {
        "id": "4G4h2cqgB2oS"
      },
      "source": [
        "----------------\n",
        "\n",
        "# `04` Data Preparation"
      ]
    },
    {
      "cell_type": "markdown",
      "metadata": {
        "id": "vzQUN2cIB84-"
      },
      "source": [
        "Perform data cleaning, feature engineering, scaling, dropping unwanted columns (such as IDs), etc. as needed to make sure it's ready for the model.\n",
        "\n",
        "`Q` Is this dataset *skewed*?\n",
        "\n",
        "Hints:\n",
        "- It could be helpful to check `sklearn.preprocessing` module.\n",
        "- Remember that Support Vector Machine classifiers require special preprocessing."
      ]
    },
    {
      "cell_type": "code",
      "execution_count": null,
      "metadata": {
        "id": "FnjvO7T8B8fk"
      },
      "outputs": [],
      "source": []
    },
    {
      "cell_type": "markdown",
      "metadata": {
        "id": "H_wtV6UsDb86"
      },
      "source": [
        "## `#` Prepare Test Set\n",
        "\n",
        "Apply the data transformations you used on the training set to the test set.\n",
        "\n",
        "**Important Note:** DO NOT use `fit` on the test set."
      ]
    },
    {
      "cell_type": "code",
      "execution_count": null,
      "metadata": {
        "id": "OZYKUWglJWsD"
      },
      "outputs": [],
      "source": []
    },
    {
      "cell_type": "code",
      "execution_count": null,
      "metadata": {
        "id": "C0tKxQ3-JWsD"
      },
      "outputs": [],
      "source": [
        "X=df.drop('Credit_Score',axis=1)\n",
        "y = df.Credit_Score"
      ]
    },
    {
      "cell_type": "code",
      "execution_count": null,
      "metadata": {
        "id": "t0WTRwCsJWsE"
      },
      "outputs": [],
      "source": [
        "X.drop(columns=['ID', 'Customer_ID', 'SSN','Unnamed: 0'], inplace= True)"
      ]
    },
    {
      "cell_type": "code",
      "execution_count": null,
      "metadata": {
        "id": "IuozIU1jEBy5",
        "outputId": "5eb74212-55e9-40fc-8e2f-4ffc8feb3212"
      },
      "outputs": [
        {
          "data": {
            "text/html": [
              "<div>\n",
              "<style scoped>\n",
              "    .dataframe tbody tr th:only-of-type {\n",
              "        vertical-align: middle;\n",
              "    }\n",
              "\n",
              "    .dataframe tbody tr th {\n",
              "        vertical-align: top;\n",
              "    }\n",
              "\n",
              "    .dataframe thead th {\n",
              "        text-align: right;\n",
              "    }\n",
              "</style>\n",
              "<table border=\"1\" class=\"dataframe\">\n",
              "  <thead>\n",
              "    <tr style=\"text-align: right;\">\n",
              "      <th></th>\n",
              "      <th>Month</th>\n",
              "      <th>Name</th>\n",
              "      <th>Age</th>\n",
              "      <th>Occupation</th>\n",
              "      <th>Annual_Income</th>\n",
              "      <th>Monthly_Inhand_Salary</th>\n",
              "      <th>Num_Bank_Accounts</th>\n",
              "      <th>Num_Credit_Card</th>\n",
              "      <th>Interest_Rate</th>\n",
              "      <th>Num_of_Loan</th>\n",
              "      <th>...</th>\n",
              "      <th>Num_Credit_Inquiries</th>\n",
              "      <th>Credit_Mix</th>\n",
              "      <th>Outstanding_Debt</th>\n",
              "      <th>Credit_Utilization_Ratio</th>\n",
              "      <th>Credit_History_Age</th>\n",
              "      <th>Payment_of_Min_Amount</th>\n",
              "      <th>Total_EMI_per_month</th>\n",
              "      <th>Amount_invested_monthly</th>\n",
              "      <th>Payment_Behaviour</th>\n",
              "      <th>Monthly_Balance</th>\n",
              "    </tr>\n",
              "  </thead>\n",
              "  <tbody>\n",
              "    <tr>\n",
              "      <th>0</th>\n",
              "      <td>1</td>\n",
              "      <td>1.533333</td>\n",
              "      <td>1.469375</td>\n",
              "      <td>1.368147</td>\n",
              "      <td>1.125</td>\n",
              "      <td>2706.161667</td>\n",
              "      <td>6</td>\n",
              "      <td>1.336984</td>\n",
              "      <td>1.314024</td>\n",
              "      <td>2</td>\n",
              "      <td>...</td>\n",
              "      <td>1.398441</td>\n",
              "      <td>1.369251</td>\n",
              "      <td>1.125</td>\n",
              "      <td>26.612093</td>\n",
              "      <td>1.471264</td>\n",
              "      <td>1.531161</td>\n",
              "      <td>1.125</td>\n",
              "      <td>244.750283</td>\n",
              "      <td>1.359073</td>\n",
              "      <td>2.000000</td>\n",
              "    </tr>\n",
              "    <tr>\n",
              "      <th>1</th>\n",
              "      <td>2</td>\n",
              "      <td>1.600000</td>\n",
              "      <td>1.469375</td>\n",
              "      <td>1.368288</td>\n",
              "      <td>1.125</td>\n",
              "      <td>2706.161667</td>\n",
              "      <td>6</td>\n",
              "      <td>1.336984</td>\n",
              "      <td>1.314024</td>\n",
              "      <td>2</td>\n",
              "      <td>...</td>\n",
              "      <td>1.356203</td>\n",
              "      <td>1.369294</td>\n",
              "      <td>1.125</td>\n",
              "      <td>29.439759</td>\n",
              "      <td>1.493976</td>\n",
              "      <td>1.531180</td>\n",
              "      <td>1.125</td>\n",
              "      <td>176.132567</td>\n",
              "      <td>1.355706</td>\n",
              "      <td>1.000000</td>\n",
              "    </tr>\n",
              "    <tr>\n",
              "      <th>2</th>\n",
              "      <td>3</td>\n",
              "      <td>1.600000</td>\n",
              "      <td>1.469375</td>\n",
              "      <td>1.368288</td>\n",
              "      <td>1.125</td>\n",
              "      <td>2706.161667</td>\n",
              "      <td>6</td>\n",
              "      <td>1.336984</td>\n",
              "      <td>1.314024</td>\n",
              "      <td>2</td>\n",
              "      <td>...</td>\n",
              "      <td>1.356203</td>\n",
              "      <td>1.369294</td>\n",
              "      <td>1.125</td>\n",
              "      <td>38.285928</td>\n",
              "      <td>1.432099</td>\n",
              "      <td>1.531180</td>\n",
              "      <td>1.125</td>\n",
              "      <td>109.056519</td>\n",
              "      <td>1.343919</td>\n",
              "      <td>1.000000</td>\n",
              "    </tr>\n",
              "    <tr>\n",
              "      <th>3</th>\n",
              "      <td>4</td>\n",
              "      <td>1.600000</td>\n",
              "      <td>1.469375</td>\n",
              "      <td>1.368288</td>\n",
              "      <td>1.125</td>\n",
              "      <td>2706.161667</td>\n",
              "      <td>6</td>\n",
              "      <td>1.336984</td>\n",
              "      <td>1.314024</td>\n",
              "      <td>2</td>\n",
              "      <td>...</td>\n",
              "      <td>1.356203</td>\n",
              "      <td>1.369294</td>\n",
              "      <td>1.125</td>\n",
              "      <td>32.843081</td>\n",
              "      <td>1.457983</td>\n",
              "      <td>1.531180</td>\n",
              "      <td>1.125</td>\n",
              "      <td>87.909909</td>\n",
              "      <td>1.343919</td>\n",
              "      <td>1.000000</td>\n",
              "    </tr>\n",
              "    <tr>\n",
              "      <th>4</th>\n",
              "      <td>5</td>\n",
              "      <td>1.600000</td>\n",
              "      <td>1.469375</td>\n",
              "      <td>1.368288</td>\n",
              "      <td>1.125</td>\n",
              "      <td>2706.161667</td>\n",
              "      <td>6</td>\n",
              "      <td>1.336984</td>\n",
              "      <td>1.314024</td>\n",
              "      <td>2</td>\n",
              "      <td>...</td>\n",
              "      <td>1.356203</td>\n",
              "      <td>1.369294</td>\n",
              "      <td>1.125</td>\n",
              "      <td>32.330508</td>\n",
              "      <td>1.471963</td>\n",
              "      <td>1.531180</td>\n",
              "      <td>1.125</td>\n",
              "      <td>191.834767</td>\n",
              "      <td>1.359165</td>\n",
              "      <td>1.000000</td>\n",
              "    </tr>\n",
              "    <tr>\n",
              "      <th>...</th>\n",
              "      <td>...</td>\n",
              "      <td>...</td>\n",
              "      <td>...</td>\n",
              "      <td>...</td>\n",
              "      <td>...</td>\n",
              "      <td>...</td>\n",
              "      <td>...</td>\n",
              "      <td>...</td>\n",
              "      <td>...</td>\n",
              "      <td>...</td>\n",
              "      <td>...</td>\n",
              "      <td>...</td>\n",
              "      <td>...</td>\n",
              "      <td>...</td>\n",
              "      <td>...</td>\n",
              "      <td>...</td>\n",
              "      <td>...</td>\n",
              "      <td>...</td>\n",
              "      <td>...</td>\n",
              "      <td>...</td>\n",
              "      <td>...</td>\n",
              "    </tr>\n",
              "    <tr>\n",
              "      <th>99995</th>\n",
              "      <td>4</td>\n",
              "      <td>1.428571</td>\n",
              "      <td>1.396595</td>\n",
              "      <td>1.337980</td>\n",
              "      <td>1.500</td>\n",
              "      <td>3749.870000</td>\n",
              "      <td>8</td>\n",
              "      <td>1.454097</td>\n",
              "      <td>1.805099</td>\n",
              "      <td>6</td>\n",
              "      <td>...</td>\n",
              "      <td>1.476322</td>\n",
              "      <td>1.670295</td>\n",
              "      <td>1.500</td>\n",
              "      <td>36.384516</td>\n",
              "      <td>1.345055</td>\n",
              "      <td>1.531161</td>\n",
              "      <td>1.500</td>\n",
              "      <td>234.354940</td>\n",
              "      <td>1.343868</td>\n",
              "      <td>1.391176</td>\n",
              "    </tr>\n",
              "    <tr>\n",
              "      <th>99996</th>\n",
              "      <td>5</td>\n",
              "      <td>1.428571</td>\n",
              "      <td>1.396595</td>\n",
              "      <td>1.337980</td>\n",
              "      <td>1.500</td>\n",
              "      <td>3749.870000</td>\n",
              "      <td>8</td>\n",
              "      <td>1.454097</td>\n",
              "      <td>1.805099</td>\n",
              "      <td>6</td>\n",
              "      <td>...</td>\n",
              "      <td>1.476322</td>\n",
              "      <td>1.670295</td>\n",
              "      <td>1.500</td>\n",
              "      <td>26.166508</td>\n",
              "      <td>1.338422</td>\n",
              "      <td>1.531161</td>\n",
              "      <td>1.500</td>\n",
              "      <td>104.629474</td>\n",
              "      <td>1.343868</td>\n",
              "      <td>1.391176</td>\n",
              "    </tr>\n",
              "    <tr>\n",
              "      <th>99997</th>\n",
              "      <td>6</td>\n",
              "      <td>1.428571</td>\n",
              "      <td>1.396595</td>\n",
              "      <td>1.337980</td>\n",
              "      <td>1.500</td>\n",
              "      <td>3749.870000</td>\n",
              "      <td>8</td>\n",
              "      <td>1.454097</td>\n",
              "      <td>1.805099</td>\n",
              "      <td>6</td>\n",
              "      <td>...</td>\n",
              "      <td>1.476322</td>\n",
              "      <td>1.670295</td>\n",
              "      <td>1.500</td>\n",
              "      <td>36.970072</td>\n",
              "      <td>1.423181</td>\n",
              "      <td>1.531161</td>\n",
              "      <td>1.500</td>\n",
              "      <td>47.007379</td>\n",
              "      <td>1.343868</td>\n",
              "      <td>1.391176</td>\n",
              "    </tr>\n",
              "    <tr>\n",
              "      <th>99998</th>\n",
              "      <td>7</td>\n",
              "      <td>1.714286</td>\n",
              "      <td>1.383708</td>\n",
              "      <td>1.338277</td>\n",
              "      <td>1.500</td>\n",
              "      <td>3749.870000</td>\n",
              "      <td>8</td>\n",
              "      <td>1.454097</td>\n",
              "      <td>1.805099</td>\n",
              "      <td>6</td>\n",
              "      <td>...</td>\n",
              "      <td>1.476322</td>\n",
              "      <td>1.670338</td>\n",
              "      <td>1.500</td>\n",
              "      <td>33.916363</td>\n",
              "      <td>1.361446</td>\n",
              "      <td>1.531199</td>\n",
              "      <td>1.500</td>\n",
              "      <td>257.989694</td>\n",
              "      <td>1.355789</td>\n",
              "      <td>1.391176</td>\n",
              "    </tr>\n",
              "    <tr>\n",
              "      <th>99999</th>\n",
              "      <td>8</td>\n",
              "      <td>1.714286</td>\n",
              "      <td>1.383708</td>\n",
              "      <td>1.338277</td>\n",
              "      <td>1.500</td>\n",
              "      <td>3749.870000</td>\n",
              "      <td>8</td>\n",
              "      <td>1.454097</td>\n",
              "      <td>1.805099</td>\n",
              "      <td>6</td>\n",
              "      <td>...</td>\n",
              "      <td>1.476322</td>\n",
              "      <td>1.670338</td>\n",
              "      <td>1.500</td>\n",
              "      <td>39.916655</td>\n",
              "      <td>1.432432</td>\n",
              "      <td>1.531199</td>\n",
              "      <td>1.500</td>\n",
              "      <td>42.575720</td>\n",
              "      <td>1.317261</td>\n",
              "      <td>1.391176</td>\n",
              "    </tr>\n",
              "  </tbody>\n",
              "</table>\n",
              "<p>100000 rows × 23 columns</p>\n",
              "</div>"
            ],
            "text/plain": [
              "       Month      Name       Age  Occupation  Annual_Income  \\\n",
              "0          1  1.533333  1.469375    1.368147          1.125   \n",
              "1          2  1.600000  1.469375    1.368288          1.125   \n",
              "2          3  1.600000  1.469375    1.368288          1.125   \n",
              "3          4  1.600000  1.469375    1.368288          1.125   \n",
              "4          5  1.600000  1.469375    1.368288          1.125   \n",
              "...      ...       ...       ...         ...            ...   \n",
              "99995      4  1.428571  1.396595    1.337980          1.500   \n",
              "99996      5  1.428571  1.396595    1.337980          1.500   \n",
              "99997      6  1.428571  1.396595    1.337980          1.500   \n",
              "99998      7  1.714286  1.383708    1.338277          1.500   \n",
              "99999      8  1.714286  1.383708    1.338277          1.500   \n",
              "\n",
              "       Monthly_Inhand_Salary  Num_Bank_Accounts  Num_Credit_Card  \\\n",
              "0                2706.161667                  6         1.336984   \n",
              "1                2706.161667                  6         1.336984   \n",
              "2                2706.161667                  6         1.336984   \n",
              "3                2706.161667                  6         1.336984   \n",
              "4                2706.161667                  6         1.336984   \n",
              "...                      ...                ...              ...   \n",
              "99995            3749.870000                  8         1.454097   \n",
              "99996            3749.870000                  8         1.454097   \n",
              "99997            3749.870000                  8         1.454097   \n",
              "99998            3749.870000                  8         1.454097   \n",
              "99999            3749.870000                  8         1.454097   \n",
              "\n",
              "       Interest_Rate  Num_of_Loan  ...  Num_Credit_Inquiries  Credit_Mix  \\\n",
              "0           1.314024            2  ...              1.398441    1.369251   \n",
              "1           1.314024            2  ...              1.356203    1.369294   \n",
              "2           1.314024            2  ...              1.356203    1.369294   \n",
              "3           1.314024            2  ...              1.356203    1.369294   \n",
              "4           1.314024            2  ...              1.356203    1.369294   \n",
              "...              ...          ...  ...                   ...         ...   \n",
              "99995       1.805099            6  ...              1.476322    1.670295   \n",
              "99996       1.805099            6  ...              1.476322    1.670295   \n",
              "99997       1.805099            6  ...              1.476322    1.670295   \n",
              "99998       1.805099            6  ...              1.476322    1.670338   \n",
              "99999       1.805099            6  ...              1.476322    1.670338   \n",
              "\n",
              "       Outstanding_Debt  Credit_Utilization_Ratio  Credit_History_Age  \\\n",
              "0                 1.125                 26.612093            1.471264   \n",
              "1                 1.125                 29.439759            1.493976   \n",
              "2                 1.125                 38.285928            1.432099   \n",
              "3                 1.125                 32.843081            1.457983   \n",
              "4                 1.125                 32.330508            1.471963   \n",
              "...                 ...                       ...                 ...   \n",
              "99995             1.500                 36.384516            1.345055   \n",
              "99996             1.500                 26.166508            1.338422   \n",
              "99997             1.500                 36.970072            1.423181   \n",
              "99998             1.500                 33.916363            1.361446   \n",
              "99999             1.500                 39.916655            1.432432   \n",
              "\n",
              "       Payment_of_Min_Amount  Total_EMI_per_month  Amount_invested_monthly  \\\n",
              "0                   1.531161                1.125               244.750283   \n",
              "1                   1.531180                1.125               176.132567   \n",
              "2                   1.531180                1.125               109.056519   \n",
              "3                   1.531180                1.125                87.909909   \n",
              "4                   1.531180                1.125               191.834767   \n",
              "...                      ...                  ...                      ...   \n",
              "99995               1.531161                1.500               234.354940   \n",
              "99996               1.531161                1.500               104.629474   \n",
              "99997               1.531161                1.500                47.007379   \n",
              "99998               1.531199                1.500               257.989694   \n",
              "99999               1.531199                1.500                42.575720   \n",
              "\n",
              "       Payment_Behaviour  Monthly_Balance  \n",
              "0               1.359073         2.000000  \n",
              "1               1.355706         1.000000  \n",
              "2               1.343919         1.000000  \n",
              "3               1.343919         1.000000  \n",
              "4               1.359165         1.000000  \n",
              "...                  ...              ...  \n",
              "99995           1.343868         1.391176  \n",
              "99996           1.343868         1.391176  \n",
              "99997           1.343868         1.391176  \n",
              "99998           1.355789         1.391176  \n",
              "99999           1.317261         1.391176  \n",
              "\n",
              "[100000 rows x 23 columns]"
            ]
          },
          "execution_count": 6,
          "metadata": {},
          "output_type": "execute_result"
        }
      ],
      "source": [
        "X"
      ]
    },
    {
      "cell_type": "markdown",
      "metadata": {
        "id": "byE8HWEnGX9T"
      },
      "source": [
        "----------------------\n",
        "\n",
        "# `05` Linear Support Vector Machine Classifier\n",
        "\n",
        "Using `sklearn` implementation of linear support vector machine classifiers to model the data.\n",
        "\n",
        "Hint: Look for `sklearn.svm.LinearSVC` class."
      ]
    },
    {
      "cell_type": "code",
      "execution_count": null,
      "metadata": {
        "id": "uI6dwGbiJWsG",
        "outputId": "e49f7e31-fb39-4ba0-ecd7-ad3021210600"
      },
      "outputs": [
        {
          "name": "stderr",
          "output_type": "stream",
          "text": [
            "C:\\Users\\Hendy Group\\anaconda3\\Lib\\site-packages\\sklearn\\svm\\_classes.py:32: FutureWarning: The default value of `dual` will change from `True` to `'auto'` in 1.5. Set the value of `dual` explicitly to suppress the warning.\n",
            "  warnings.warn(\n"
          ]
        },
        {
          "name": "stdout",
          "output_type": "stream",
          "text": [
            "Accuracy: 0.7753\n"
          ]
        },
        {
          "name": "stderr",
          "output_type": "stream",
          "text": [
            "C:\\Users\\Hendy Group\\anaconda3\\Lib\\site-packages\\sklearn\\svm\\_base.py:1242: ConvergenceWarning: Liblinear failed to converge, increase the number of iterations.\n",
            "  warnings.warn(\n"
          ]
        }
      ],
      "source": [
        "from sklearn.svm import LinearSVC\n",
        "from sklearn.model_selection import train_test_split\n",
        "from sklearn.metrics import accuracy_score\n",
        "\n",
        "# Step 3: Split data into training and testing sets\n",
        "X_train, X_test, y_train, y_test = train_test_split(X, y, test_size=0.2, random_state=1234)\n",
        "\n",
        "# Step 4: Instantiate the classifier\n",
        "clf = LinearSVC()\n",
        "\n",
        "# Step 5: Train the classifier\n",
        "clf.fit(X_train, y_train)\n",
        "\n",
        "# Step 6: Evaluate the model\n",
        "y_pred = clf.predict(X_test)\n",
        "accuracy = accuracy_score(y_test, y_pred)\n",
        "print(\"Accuracy:\", accuracy)"
      ]
    },
    {
      "cell_type": "code",
      "execution_count": null,
      "metadata": {
        "id": "dtU39b4RJWsG"
      },
      "outputs": [],
      "source": []
    },
    {
      "cell_type": "code",
      "execution_count": null,
      "metadata": {
        "id": "2x-AT4pgJWsG"
      },
      "outputs": [],
      "source": []
    },
    {
      "cell_type": "code",
      "execution_count": null,
      "metadata": {
        "id": "dTl7NwnZJWsG"
      },
      "outputs": [],
      "source": []
    },
    {
      "cell_type": "code",
      "execution_count": null,
      "metadata": {
        "id": "2fU9RvtxJWsH"
      },
      "outputs": [],
      "source": []
    },
    {
      "cell_type": "markdown",
      "metadata": {
        "id": "1731lOYIHPNw"
      },
      "source": [
        "## `i` Baseline Model Training\n",
        "\n",
        "Initializing the model with initial parameters, fitting it to the training data, and get a baseline model.\n",
        "\n",
        "Use:\n",
        "- `random_state` $= 1234$"
      ]
    },
    {
      "cell_type": "code",
      "execution_count": null,
      "metadata": {
        "id": "MDUO_cwZJWsH",
        "outputId": "4eadde86-5442-473b-9f86-72346266350e"
      },
      "outputs": [
        {
          "name": "stderr",
          "output_type": "stream",
          "text": [
            "C:\\Users\\Hendy Group\\anaconda3\\Lib\\site-packages\\sklearn\\svm\\_classes.py:32: FutureWarning: The default value of `dual` will change from `True` to `'auto'` in 1.5. Set the value of `dual` explicitly to suppress the warning.\n",
            "  warnings.warn(\n"
          ]
        },
        {
          "name": "stdout",
          "output_type": "stream",
          "text": [
            "Baseline Model Accuracy: 0.59\n"
          ]
        },
        {
          "name": "stderr",
          "output_type": "stream",
          "text": [
            "C:\\Users\\Hendy Group\\anaconda3\\Lib\\site-packages\\sklearn\\svm\\_base.py:1242: ConvergenceWarning: Liblinear failed to converge, increase the number of iterations.\n",
            "  warnings.warn(\n"
          ]
        }
      ],
      "source": [
        "X_sample = X.sample(n=1000, random_state=1234)\n",
        "y_sample = y.sample(n=2000, random_state=1234)\n",
        "\n",
        "X_train, X_test, y_train, y_test = train_test_split(X_sample, y_sample, test_size=0.2, random_state=1234)\n",
        "\n",
        "# Step 4: Initialize the classifier with initial parameters\n",
        "clf = LinearSVC(random_state=1234)\n",
        "\n",
        "# Step 5: Train the classifier\n",
        "clf.fit(X_train, y_train)\n",
        "\n",
        "# Step 6: Predict on the testing set\n",
        "y_pred = clf.predict(X_test)\n",
        "\n",
        "# Step 7: Evaluate the model\n",
        "accuracy = accuracy_score(y_test, y_pred)\n",
        "print(\"Baseline Model Accuracy:\", accuracy)"
      ]
    },
    {
      "cell_type": "code",
      "execution_count": null,
      "metadata": {
        "id": "5HaoLxdUHKUm"
      },
      "outputs": [],
      "source": []
    },
    {
      "cell_type": "markdown",
      "metadata": {
        "id": "p8iTFl8UHK1T"
      },
      "source": [
        "## `ii` Model Evaluation\n",
        "\n",
        "Evaluate the baseline model performance using classification metrics, e.g. **Accuracy**, **Precision**, $F_1 \\space Score$, **Confusion Matrix** etc.\n",
        "\n",
        "Which metric is more reliable?"
      ]
    },
    {
      "cell_type": "code",
      "execution_count": null,
      "metadata": {
        "id": "wXH6oc-FJWsI",
        "outputId": "c7e65fbc-7a58-4d9c-bc29-87596e2c6fc4"
      },
      "outputs": [
        {
          "name": "stdout",
          "output_type": "stream",
          "text": [
            "Accuracy: 0.7753\n",
            "Precision: 0.8305050053467756\n",
            "F1 Score: 0.727177077588446\n",
            "Confusion Matrix:\n",
            " [[ 3426    49    75]\n",
            " [  106  1385  4264]\n",
            " [    0     0 10695]]\n"
          ]
        }
      ],
      "source": [
        "\n",
        "# Calculate accuracy\n",
        "accuracy = accuracy_score(y_test, y_pred)\n",
        "\n",
        "# Calculate precision\n",
        "precision = precision_score(y_test, y_pred, average='weighted')\n",
        "\n",
        "# Calculate F1 score\n",
        "f1 = f1_score(y_test, y_pred, average='weighted')\n",
        "\n",
        "# Calculate confusion matrix\n",
        "conf_matrix = confusion_matrix(y_test, y_pred)\n",
        "\n",
        "print(\"Accuracy:\", accuracy)\n",
        "print(\"Precision:\", precision)\n",
        "print(\"F1 Score:\", f1)\n",
        "print(\"Confusion Matrix:\\n\", conf_matrix)\n"
      ]
    },
    {
      "cell_type": "code",
      "execution_count": null,
      "metadata": {
        "id": "nQOtqp-iIHUY"
      },
      "outputs": [],
      "source": []
    },
    {
      "cell_type": "markdown",
      "metadata": {
        "id": "MzGJvMl40ncp"
      },
      "source": [
        "----------------------\n",
        "\n",
        "# `06` Kernelized Support Vector Machine Classifier\n",
        "\n",
        "Using `sklearn` implementation of kernelized support vector machine classifiers to model the data.\n",
        "\n",
        "Hint: Look for `sklearn.svm.SVC` class."
      ]
    },
    {
      "cell_type": "code",
      "execution_count": null,
      "metadata": {
        "id": "woGKivHHJWsK",
        "outputId": "9d9ed0a5-bee8-494d-f921-f92ea60cce48"
      },
      "outputs": [
        {
          "name": "stdout",
          "output_type": "stream",
          "text": [
            "Accuracy: 0.9938\n"
          ]
        }
      ],
      "source": [
        "X_train, X_test, y_train, y_test = train_test_split(X, y, test_size=0.2, random_state=1234)\n",
        "\n",
        "clf = SVC(kernel='linear', random_state=1234)\n",
        "\n",
        "clf.fit(X_train, y_train)\n",
        "\n",
        "y_pred = clf.predict(X_test)\n",
        "accuracy = accuracy_score(y_test, y_pred)\n",
        "print(\"Accuracy:\", accuracy)"
      ]
    },
    {
      "cell_type": "code",
      "execution_count": null,
      "metadata": {
        "id": "A2PHwCPiJWsK"
      },
      "outputs": [],
      "source": []
    },
    {
      "cell_type": "markdown",
      "metadata": {
        "id": "Go-ZAOJk0ndD"
      },
      "source": [
        "## `i` Baseline Model Training\n",
        "\n",
        "Initializing the model with initial parameters, fitting it to the training data, and get a baseline model.\n",
        "\n",
        "Use:\n",
        "- `random_state` $= 1234$\n",
        "- `kernel` = 'linear'"
      ]
    },
    {
      "cell_type": "code",
      "execution_count": null,
      "metadata": {
        "id": "sEIWEqYN0ndD"
      },
      "outputs": [],
      "source": []
    },
    {
      "cell_type": "markdown",
      "metadata": {
        "id": "eyqZk9W20ndE"
      },
      "source": [
        "## `ii` Model Evaluation\n",
        "\n",
        "Evaluate the baseline model performance using classification metrics, e.g. **Accuracy**, **Precision**, $F_1 \\space Score$, **Confusion Matrix** etc.\n",
        "\n",
        "`Q` Which metric is more reliable?\n",
        "`Q` Compare the results to those of `sklearn.svm.LinearSVC` class. Also, is there a difference in the training time?"
      ]
    },
    {
      "cell_type": "code",
      "execution_count": null,
      "metadata": {
        "id": "-ZysY3DPJWsR",
        "outputId": "bf685618-e4ea-44d2-a44b-b070a4ba9c8a"
      },
      "outputs": [
        {
          "name": "stdout",
          "output_type": "stream",
          "text": [
            "Baseline Model:\n",
            "Accuracy: 0.9938\n",
            "Precision: 0.9938459546501607\n",
            "F1 Score: 0.9938037757656737\n",
            "Confusion Matrix:\n",
            " [[ 3493    53     4]\n",
            " [    0  5725    30]\n",
            " [    0    37 10658]]\n"
          ]
        }
      ],
      "source": [
        "\n",
        "# Calculate accuracy\n",
        "accuracy = accuracy_score(y_test, y_pred)\n",
        "\n",
        "# Calculate precision\n",
        "precision = precision_score(y_test, y_pred, average='weighted')\n",
        "\n",
        "# Calculate F1 score\n",
        "f1 = f1_score(y_test, y_pred, average='weighted')\n",
        "\n",
        "# Calculate confusion matrix\n",
        "conf_matrix = confusion_matrix(y_test, y_pred)\n",
        "\n",
        "print(\"Baseline Model:\")\n",
        "print(\"Accuracy:\", accuracy)\n",
        "print(\"Precision:\", precision)\n",
        "print(\"F1 Score:\", f1)\n",
        "print(\"Confusion Matrix:\\n\", conf_matrix)\n"
      ]
    },
    {
      "cell_type": "code",
      "execution_count": null,
      "metadata": {
        "id": "LqctcYMTJWsS",
        "outputId": "51bd9fd8-ae5d-4433-8c11-97a3bab107d7"
      },
      "outputs": [
        {
          "name": "stderr",
          "output_type": "stream",
          "text": [
            "C:\\Users\\Hendy Group\\anaconda3\\Lib\\site-packages\\sklearn\\svm\\_classes.py:32: FutureWarning: The default value of `dual` will change from `True` to `'auto'` in 1.5. Set the value of `dual` explicitly to suppress the warning.\n",
            "  warnings.warn(\n"
          ]
        },
        {
          "name": "stdout",
          "output_type": "stream",
          "text": [
            "\n",
            "LinearSVC Model:\n",
            "Accuracy (LinearSVC): 0.9246\n",
            "Precision (LinearSVC): 0.9230574178302703\n",
            "F1 Score (LinearSVC): 0.9232142489318463\n",
            "Confusion Matrix (LinearSVC):\n",
            " [[ 2954   528    68]\n",
            " [  393  4879   483]\n",
            " [    0    36 10659]]\n",
            "Training Time (LinearSVC): 58.45899415016174\n"
          ]
        },
        {
          "name": "stderr",
          "output_type": "stream",
          "text": [
            "C:\\Users\\Hendy Group\\anaconda3\\Lib\\site-packages\\sklearn\\svm\\_base.py:1242: ConvergenceWarning: Liblinear failed to converge, increase the number of iterations.\n",
            "  warnings.warn(\n"
          ]
        }
      ],
      "source": [
        "from sklearn.svm import LinearSVC\n",
        "from sklearn.metrics import accuracy_score, precision_score, f1_score, confusion_matrix\n",
        "import time\n",
        "\n",
        "# Instantiate and train LinearSVC model\n",
        "start_time = time.time()\n",
        "clf_linear = LinearSVC(random_state=1234)\n",
        "clf_linear.fit(X_train, y_train)\n",
        "training_time_linear_svc = time.time() - start_time\n",
        "\n",
        "# Predictions and evaluation\n",
        "y_pred_linear = clf_linear.predict(X_test)\n",
        "accuracy_linear = accuracy_score(y_test, y_pred_linear)\n",
        "precision_linear = precision_score(y_test, y_pred_linear, average='weighted')\n",
        "f1_linear = f1_score(y_test, y_pred_linear, average='weighted')\n",
        "conf_matrix_linear = confusion_matrix(y_test, y_pred_linear)\n",
        "\n",
        "print(\"\\nLinearSVC Model:\")\n",
        "print(\"Accuracy (LinearSVC):\", accuracy_linear)\n",
        "print(\"Precision (LinearSVC):\", precision_linear)\n",
        "print(\"F1 Score (LinearSVC):\", f1_linear)\n",
        "print(\"Confusion Matrix (LinearSVC):\\n\", conf_matrix_linear)\n",
        "print(\"Training Time (LinearSVC):\", training_time_linear_svc)\n"
      ]
    },
    {
      "cell_type": "code",
      "execution_count": null,
      "metadata": {
        "id": "ZTSu3BtWJWsT"
      },
      "outputs": [],
      "source": []
    },
    {
      "cell_type": "code",
      "execution_count": null,
      "metadata": {
        "id": "EPqRfn260ndE"
      },
      "outputs": [],
      "source": []
    },
    {
      "cell_type": "markdown",
      "metadata": {
        "id": "SruId9hzJbXH"
      },
      "source": [
        "## `iii` Kernelization Mode: On\n",
        "\n",
        "Let's try the both `poly` and `rbf` kernels. Use default $C, \\gamma, \\space and/or \\space degree$ parameter(s) for simplicity if you want. Does kernelization make the model better?\n",
        "\n",
        "Which of the two kernels performs better?"
      ]
    },
    {
      "cell_type": "code",
      "execution_count": null,
      "metadata": {
        "id": "ccbAVUafJWsT",
        "outputId": "710d1281-4505-43a9-9ed8-7c27d0cc74b7"
      },
      "outputs": [
        {
          "name": "stdout",
          "output_type": "stream",
          "text": [
            "Polynomial Kernel Model:\n",
            "Accuracy (poly): 0.53475\n",
            "Precision (poly): 0.2859575625\n",
            "F1 Score (poly): 0.372643834500733\n",
            "Confusion Matrix (poly):\n",
            " [[    0     0  3550]\n",
            " [    0     0  5755]\n",
            " [    0     0 10695]]\n"
          ]
        },
        {
          "name": "stderr",
          "output_type": "stream",
          "text": [
            "C:\\Users\\Hendy Group\\anaconda3\\Lib\\site-packages\\sklearn\\metrics\\_classification.py:1469: UndefinedMetricWarning: Precision is ill-defined and being set to 0.0 in labels with no predicted samples. Use `zero_division` parameter to control this behavior.\n",
            "  _warn_prf(average, modifier, msg_start, len(result))\n"
          ]
        }
      ],
      "source": [
        "\n",
        "\n",
        "# Instantiate and train SVC model with polynomial kernel\n",
        "clf_poly = SVC(kernel='poly', random_state=1234)\n",
        "clf_poly.fit(X_train, y_train)\n",
        "\n",
        "# Predictions\n",
        "y_pred_poly = clf_poly.predict(X_test)\n",
        "\n",
        "# Evaluation\n",
        "accuracy_poly = accuracy_score(y_test, y_pred_poly)\n",
        "precision_poly = precision_score(y_test, y_pred_poly, average='weighted')\n",
        "f1_poly = f1_score(y_test, y_pred_poly, average='weighted')\n",
        "conf_matrix_poly = confusion_matrix(y_test, y_pred_poly)\n",
        "\n",
        "print(\"Polynomial Kernel Model:\")\n",
        "print(\"Accuracy (poly):\", accuracy_poly)\n",
        "print(\"Precision (poly):\", precision_poly)\n",
        "print(\"F1 Score (poly):\", f1_poly)\n",
        "print(\"Confusion Matrix (poly):\\n\", conf_matrix_poly)\n"
      ]
    },
    {
      "cell_type": "code",
      "execution_count": null,
      "metadata": {
        "id": "rOTqua_CJWsU",
        "outputId": "5b4b5c28-ed1d-4154-9eff-13b8c03d6cf4"
      },
      "outputs": [
        {
          "name": "stdout",
          "output_type": "stream",
          "text": [
            "\n",
            "RBF Kernel Model:\n",
            "Accuracy (rbf): 0.53555\n",
            "Precision (rbf): 0.37208443438145267\n",
            "F1 Score (rbf): 0.3799088585223506\n",
            "Confusion Matrix (rbf):\n",
            " [[   78     0  3472]\n",
            " [   22     0  5733]\n",
            " [   62     0 10633]]\n"
          ]
        },
        {
          "name": "stderr",
          "output_type": "stream",
          "text": [
            "C:\\Users\\Hendy Group\\anaconda3\\Lib\\site-packages\\sklearn\\metrics\\_classification.py:1469: UndefinedMetricWarning: Precision is ill-defined and being set to 0.0 in labels with no predicted samples. Use `zero_division` parameter to control this behavior.\n",
            "  _warn_prf(average, modifier, msg_start, len(result))\n"
          ]
        }
      ],
      "source": [
        "# Instantiate and train SVC model with RBF kernel\n",
        "clf_rbf = SVC(kernel='rbf', random_state=1234)\n",
        "clf_rbf.fit(X_train, y_train)\n",
        "\n",
        "# Predictions\n",
        "y_pred_rbf = clf_rbf.predict(X_test)\n",
        "\n",
        "# Evaluation\n",
        "accuracy_rbf = accuracy_score(y_test, y_pred_rbf)\n",
        "precision_rbf = precision_score(y_test, y_pred_rbf, average='weighted')\n",
        "f1_rbf = f1_score(y_test, y_pred_rbf, average='weighted')\n",
        "conf_matrix_rbf = confusion_matrix(y_test, y_pred_rbf)\n",
        "\n",
        "print(\"\\nRBF Kernel Model:\")\n",
        "print(\"Accuracy (rbf):\", accuracy_rbf)\n",
        "print(\"Precision (rbf):\", precision_rbf)\n",
        "print(\"F1 Score (rbf):\", f1_rbf)\n",
        "print(\"Confusion Matrix (rbf):\\n\", conf_matrix_rbf)\n"
      ]
    },
    {
      "cell_type": "code",
      "execution_count": null,
      "metadata": {
        "id": "DwDmQEOZJWsV",
        "outputId": "5b36d51a-045a-45bc-a699-8f87df363822"
      },
      "outputs": [
        {
          "name": "stdout",
          "output_type": "stream",
          "text": [
            "\n",
            "Comparison:\n"
          ]
        },
        {
          "ename": "NameError",
          "evalue": "name 'accuracy_poly' is not defined",
          "output_type": "error",
          "traceback": [
            "\u001b[1;31m---------------------------------------------------------------------------\u001b[0m",
            "\u001b[1;31mNameError\u001b[0m                                 Traceback (most recent call last)",
            "Cell \u001b[1;32mIn[12], line 2\u001b[0m\n\u001b[0;32m      1\u001b[0m \u001b[38;5;28mprint\u001b[39m(\u001b[38;5;124m\"\u001b[39m\u001b[38;5;130;01m\\n\u001b[39;00m\u001b[38;5;124mComparison:\u001b[39m\u001b[38;5;124m\"\u001b[39m)\n\u001b[1;32m----> 2\u001b[0m \u001b[38;5;28mprint\u001b[39m(\u001b[38;5;124m\"\u001b[39m\u001b[38;5;124mAccuracy (poly):\u001b[39m\u001b[38;5;124m\"\u001b[39m, accuracy_poly)\n\u001b[0;32m      3\u001b[0m \u001b[38;5;28mprint\u001b[39m(\u001b[38;5;124m\"\u001b[39m\u001b[38;5;124mAccuracy (rbf):\u001b[39m\u001b[38;5;124m\"\u001b[39m, accuracy_rbf)\n\u001b[0;32m      4\u001b[0m \u001b[38;5;28mprint\u001b[39m(\u001b[38;5;124m\"\u001b[39m\u001b[38;5;124mPrecision (poly):\u001b[39m\u001b[38;5;124m\"\u001b[39m, precision_poly)\n",
            "\u001b[1;31mNameError\u001b[0m: name 'accuracy_poly' is not defined"
          ]
        }
      ],
      "source": [
        "print(\"\\nComparison:\")\n",
        "print(\"Accuracy (poly):\", accuracy_poly)\n",
        "print(\"Accuracy (rbf):\", accuracy_rbf)\n",
        "print(\"Precision (poly):\", precision_poly)\n",
        "print(\"Precision (rbf):\", precision_rbf)\n",
        "print(\"F1 Score (poly):\", f1_poly)\n",
        "print(\"F1 Score (rbf):\", f1_rbf)"
      ]
    },
    {
      "cell_type": "code",
      "execution_count": null,
      "metadata": {
        "id": "ROTQutrIJWsV"
      },
      "outputs": [],
      "source": []
    },
    {
      "cell_type": "code",
      "execution_count": null,
      "metadata": {
        "id": "5EHsLfXnJWsV"
      },
      "outputs": [],
      "source": []
    },
    {
      "cell_type": "code",
      "execution_count": null,
      "metadata": {
        "id": "a4n9kftlIIV4"
      },
      "outputs": [],
      "source": []
    },
    {
      "cell_type": "markdown",
      "metadata": {
        "id": "zFJUaZuDIH1j"
      },
      "source": [
        "## `iv` Tuning Hyperparameters\n",
        "\n",
        "Try different  $C, \\gamma, \\space and/or \\space degree$ values and evaluate. What is the best hyperparamters value combination?\n",
        "\n",
        "Remember that $alpha=\\frac{1}{C}$ which means less regularization for higher $C$ values.\n",
        "\n",
        "`Hint:` Make sure to tune only relevant hyperparameters per kernel (e.g., don't tune different values for `degree` while using `rbf` kernel)\n",
        "\n",
        "`Note:` You can tune other parameters as you see fit (but make sure you elaborate your reasoning.\n",
        "\n",
        "Hint: You might want to use `sklearn.model_selection.RandomizedSearchCV` or `sklearn.model_selection.GridSearchCV` classes."
      ]
    },
    {
      "cell_type": "code",
      "execution_count": null,
      "metadata": {
        "scrolled": true,
        "id": "qvYW_0HIJWsW",
        "outputId": "96ef7578-03fb-4f37-82c6-e6ba18733388"
      },
      "outputs": [
        {
          "name": "stdout",
          "output_type": "stream",
          "text": [
            "Best Hyperparameters (Polynomial Kernel): {'C': 10, 'degree': 4}\n",
            "Accuracy (Polynomial Kernel - Tuned): 0.53375\n"
          ]
        }
      ],
      "source": [
        "X_sample = X.sample(n=4000, random_state=1234)\n",
        "y_sample = y.sample(n=4000, random_state=1234)\n",
        "# Define parameter grid for polynomial kernel\n",
        "param_grid_poly = {\n",
        "    'C': [0.1, 1, 10],\n",
        "    'degree': [2, 3, 4]\n",
        "}\n",
        "X_train, X_test, y_train, y_test = train_test_split(X_sample, y_sample, test_size=0.2, random_state=1234)\n",
        "\n",
        "# Instantiate SVC model with polynomial kernel\n",
        "svc_poly = SVC(kernel='poly', random_state=1234)\n",
        "\n",
        "# Instantiate GridSearchCV\n",
        "grid_search_poly = GridSearchCV(estimator=svc_poly, param_grid=param_grid_poly, cv=3, scoring='accuracy')\n",
        "\n",
        "# Fit GridSearchCV to training data\n",
        "grid_search_poly.fit(X_train, y_train)\n",
        "\n",
        "# Get best hyperparameters\n",
        "best_params_poly = grid_search_poly.best_params_\n",
        "print(\"Best Hyperparameters (Polynomial Kernel):\", best_params_poly)\n",
        "\n",
        "# Evaluate model with best hyperparameters\n",
        "best_clf_poly = grid_search_poly.best_estimator_\n",
        "y_pred_poly_tuned = best_clf_poly.predict(X_test)\n",
        "accuracy_poly_tuned = accuracy_score(y_test, y_pred_poly_tuned)\n",
        "print(\"Accuracy (Polynomial Kernel - Tuned):\", accuracy_poly_tuned)"
      ]
    },
    {
      "cell_type": "code",
      "execution_count": null,
      "metadata": {
        "id": "rWT7ZSARJWsX",
        "outputId": "cc099fc8-0328-4d0b-9214-53f3864d2ace"
      },
      "outputs": [
        {
          "name": "stdout",
          "output_type": "stream",
          "text": [
            "Best Hyperparameters (RBF Kernel): {'C': 10, 'gamma': 'auto'}\n",
            "Accuracy (RBF Kernel - Tuned): 0.535\n"
          ]
        }
      ],
      "source": [
        "# Define parameter grid for RBF kernel\n",
        "param_grid_rbf = {\n",
        "    'C': [0.1, 1, 10],\n",
        "    'gamma': ['scale', 'auto']\n",
        "}\n",
        "\n",
        "# Instantiate SVC model with RBF kernel\n",
        "svc_rbf = SVC(kernel='rbf', random_state=1234)\n",
        "\n",
        "# Instantiate GridSearchCV\n",
        "grid_search_rbf = GridSearchCV(estimator=svc_rbf, param_grid=param_grid_rbf, cv=3, scoring='accuracy')\n",
        "\n",
        "# Fit GridSearchCV to training data\n",
        "grid_search_rbf.fit(X_train, y_train)\n",
        "\n",
        "# Get best hyperparameters\n",
        "best_params_rbf = grid_search_rbf.best_params_\n",
        "print(\"Best Hyperparameters (RBF Kernel):\", best_params_rbf)\n",
        "\n",
        "# Evaluate model with best hyperparameters\n",
        "best_clf_rbf = grid_search_rbf.best_estimator_\n",
        "y_pred_rbf_tuned = best_clf_rbf.predict(X_test)\n",
        "accuracy_rbf_tuned = accuracy_score(y_test, y_pred_rbf_tuned)\n",
        "print(\"Accuracy (RBF Kernel - Tuned):\", accuracy_rbf_tuned)"
      ]
    },
    {
      "cell_type": "code",
      "execution_count": null,
      "metadata": {
        "id": "_WyaGi3vKvBy"
      },
      "outputs": [],
      "source": []
    },
    {
      "cell_type": "markdown",
      "metadata": {
        "id": "YqLALFTzKx6T"
      },
      "source": [
        "------------------\n",
        "\n",
        "# `07` Generalization Error\n",
        "\n",
        "Now that we have tuned our solution, to an *extent*, we need to test for a final time on the held out test set."
      ]
    },
    {
      "cell_type": "code",
      "execution_count": null,
      "metadata": {
        "id": "ZxU2WqBtLJa0"
      },
      "outputs": [],
      "source": []
    },
    {
      "cell_type": "markdown",
      "metadata": {
        "id": "sgLHjma5LJ6_"
      },
      "source": [
        "-----------------------------\n",
        "\n",
        "# `Bonus` Better Flow\n",
        "\n",
        "For the model to be production-ready, we need to integrate it into a pipeline along with the data preparation flow.\n",
        "\n",
        "Hint: Look up `sklearn.pipeline.Pipeline` class."
      ]
    },
    {
      "cell_type": "code",
      "execution_count": null,
      "metadata": {
        "id": "jjy-xdz4MgwE"
      },
      "outputs": [],
      "source": []
    },
    {
      "cell_type": "markdown",
      "metadata": {
        "id": "3y_4u6qu6u6D"
      },
      "source": [
        "----------------------------------------------\n",
        "\n",
        "$$ Wish \\space you \\space all \\space the \\space best \\space ♡ $$\n",
        "$$ Abdelrahman \\space Eid $$"
      ]
    }
  ],
  "metadata": {
    "colab": {
      "provenance": []
    },
    "kernelspec": {
      "display_name": "Python 3 (ipykernel)",
      "language": "python",
      "name": "python3"
    },
    "language_info": {
      "codemirror_mode": {
        "name": "ipython",
        "version": 3
      },
      "file_extension": ".py",
      "mimetype": "text/x-python",
      "name": "python",
      "nbconvert_exporter": "python",
      "pygments_lexer": "ipython3",
      "version": "3.11.5"
    }
  },
  "nbformat": 4,
  "nbformat_minor": 0
}